{
 "cells": [
  {
   "cell_type": "code",
   "execution_count": 194,
   "metadata": {},
   "outputs": [],
   "source": [
    "import os\n",
    "import wfdb as wf\n",
    "import numpy as np\n",
    "import matplotlib.pyplot as plt\n",
    "from biosppy.signals import ecg\n",
    "import glob\n",
    "from scipy import signal\n",
    "import pandas as pd\n",
    "from keras.layers import Dense, Convolution1D, MaxPool1D, Flatten, Dropout\n",
    "from keras.layers import Input\n",
    "from keras.models import Model\n",
    "from keras.layers.normalization import BatchNormalization\n",
    "import keras\n",
    "from keras.callbacks import EarlyStopping, ModelCheckpoint\n",
    "from keras.utils.np_utils import to_categorical\n",
    "import tensorflow as tf\n",
    "from sklearn.metrics import confusion_matrix\n",
    "\n"
   ]
  },
  {
   "cell_type": "code",
   "execution_count": 195,
   "metadata": {},
   "outputs": [],
   "source": [
    "filepaths_glob=glob.iglob('/Users/aring/jupyter/differential-privacy/data/Arno/ECGDataDenoised/*.csv')\n",
    "filepaths=[]\n",
    "count=0\n",
    "for filepath in filepaths_glob:\n",
    "    filepaths.append(filepath)"
   ]
  },
  {
   "cell_type": "code",
   "execution_count": 196,
   "metadata": {},
   "outputs": [
    {
     "name": "stdout",
     "output_type": "stream",
     "text": [
      "no data for this patinet: 689\n",
      "Failed to upload to ftp: Not enough beats to compute heart rate.\n",
      "Failed to upload to ftp: Not enough beats to compute heart rate.\n",
      "Failed to upload to ftp: Not enough beats to compute heart rate.\n",
      "Failed to upload to ftp: Not enough beats to compute heart rate.\n",
      "Failed to upload to ftp: Not enough beats to compute heart rate.\n",
      "Failed to upload to ftp: Not enough beats to compute heart rate.\n",
      "Failed to upload to ftp: Not enough beats to compute heart rate.\n",
      "Failed to upload to ftp: Not enough beats to compute heart rate.\n",
      "Failed to upload to ftp: Not enough beats to compute heart rate.\n",
      "Failed to upload to ftp: Not enough beats to compute heart rate.\n",
      "Failed to upload to ftp: Not enough beats to compute heart rate.\n",
      "Failed to upload to ftp: Not enough beats to compute heart rate.\n",
      "Failed to upload to ftp: Not enough beats to compute heart rate.\n",
      "Failed to upload to ftp: Not enough beats to compute heart rate.\n",
      "Failed to upload to ftp: Not enough beats to compute heart rate.\n",
      "Failed to upload to ftp: Not enough beats to compute heart rate.\n",
      "Failed to upload to ftp: Not enough beats to compute heart rate.\n",
      "Failed to upload to ftp: Not enough beats to compute heart rate.\n",
      "Failed to upload to ftp: Not enough beats to compute heart rate.\n",
      "Failed to upload to ftp: Not enough beats to compute heart rate.\n",
      "Failed to upload to ftp: Not enough beats to compute heart rate.\n",
      "Failed to upload to ftp: Not enough beats to compute heart rate.\n",
      "Failed to upload to ftp: Not enough beats to compute heart rate.\n",
      "Failed to upload to ftp: Not enough beats to compute heart rate.\n",
      "Failed to upload to ftp: Not enough beats to compute heart rate.\n",
      "Failed to upload to ftp: Not enough beats to compute heart rate.\n",
      "Failed to upload to ftp: Not enough beats to compute heart rate.\n",
      "Failed to upload to ftp: Not enough beats to compute heart rate.\n",
      "Failed to upload to ftp: Not enough beats to compute heart rate.\n",
      "Failed to upload to ftp: Not enough beats to compute heart rate.\n",
      "Failed to upload to ftp: Not enough beats to compute heart rate.\n",
      "no data for this patinet: 7706\n",
      "no data for this patinet: 8271\n",
      "Failed to upload to ftp: Not enough beats to compute heart rate.\n",
      "Failed to upload to ftp: Not enough beats to compute heart rate.\n",
      "no data for this patinet: 8666\n",
      "Failed to upload to ftp: Not enough beats to compute heart rate.\n",
      "Failed to upload to ftp: Not enough beats to compute heart rate.\n",
      "no data for this patinet: 9001\n",
      "Failed to upload to ftp: Not enough beats to compute heart rate.\n",
      "Failed to upload to ftp: Not enough beats to compute heart rate.\n",
      "Failed to upload to ftp: Not enough beats to compute heart rate.\n",
      "Failed to upload to ftp: Not enough beats to compute heart rate.\n",
      "no data for this patinet: 10227\n",
      "Failed to upload to ftp: Not enough beats to compute heart rate.\n",
      "Generating  /Users/aring/jupyter/differential-privacy/data/Arno/ECG-identification-input/lead1.csv\n"
     ]
    }
   ],
   "source": [
    "# Loop through each input file. Each file contains one\n",
    "# record of ECG readings, sampled at 500 readings per\n",
    "# second. Find the peaks and downsamples each beat and make it 186 points\n",
    "\n",
    "TARGET_SAMPLING_RATE=125\n",
    "DATA_SAMPLING_RATE=500\n",
    "INPUT_BEAT_SIZE=187\n",
    "patient_id=0\n",
    "savedata = np.empty((0,INPUT_BEAT_SIZE+1), dtype=np.float)\n",
    "\n",
    "for path in filepaths:\n",
    "#     print('patient_id: '+str(patient_id))\n",
    "    record=pd.read_csv(path,header=None)\n",
    "    channel = record[1].values\n",
    "    \n",
    "    try:\n",
    "        out = ecg.ecg(signal=channel, sampling_rate=DATA_SAMPLING_RATE, show=False)\n",
    "    except Exception as e: # work on python 3.x\n",
    "        print('Failed to upload to ftp: '+ str(e))\n",
    "        continue\n",
    "    \n",
    "    beatstoremove = np.array([0])\n",
    "    beats = np.split(channel, out['rpeaks'])\n",
    "    for idx, idxval in enumerate(out['rpeaks']):\n",
    "        firstround = idx == 0\n",
    "        lastround = idx == len(beats) - 1\n",
    "        # Skip first and last beat.\n",
    "        if (firstround or lastround):\n",
    "            continue\n",
    "\n",
    "        # Normalize the readings to a 0-1 range for ML purposes.\n",
    "        beats[idx] = (beats[idx] - beats[idx].min()) / beats[idx].ptp()\n",
    "\n",
    "        # Resample from 500HZ to 125Hz\n",
    "        newsize = int((beats[idx].size * TARGET_SAMPLING_RATE / DATA_SAMPLING_RATE) + 0.5)\n",
    "        beats[idx] = signal.resample(beats[idx], newsize)\n",
    "\n",
    "        #Skipping records that are too long.\n",
    "        if (beats[idx].size > INPUT_BEAT_SIZE):\n",
    "            beatstoremove = np.append(beatstoremove, idx)\n",
    "            continue\n",
    "\n",
    "        #Pad with zeroes.\n",
    "        zerocount = INPUT_BEAT_SIZE - beats[idx].size\n",
    "        beats[idx] = np.pad(beats[idx], (0, zerocount), 'constant', constant_values=(0.0, 0.0))\n",
    "\n",
    "        # Append the person ID to the beat data.\n",
    "        beats[idx] = np.append(beats[idx], float(patient_id))\n",
    "            \n",
    "    beatstoremove = np.append(beatstoremove, len(beats)-1)\n",
    "    beats = np.delete(beats, beatstoremove)\n",
    "    if ( np.array(list(beats[:])).ndim==2 ):\n",
    "        savedata = np.append(savedata, np.array(list(beats[:]), dtype=np.float), axis=0)\n",
    "    else:\n",
    "        print('no data for this patinet: '+ str(patient_id))\n",
    "        continue\n",
    "    \n",
    "    patient_id=patient_id+1\n",
    "\n",
    "\n",
    "# Save to CSV file.\n",
    "outfn = '/Users/aring/jupyter/differential-privacy/data/Arno/ECG-identification-input/lead1.csv'\n",
    "print('Generating ', outfn)\n",
    "with open(outfn, \"wb\") as fin:\n",
    "    np.savetxt(fin, savedata, delimiter=\",\", fmt='%f')"
   ]
  },
  {
   "cell_type": "code",
   "execution_count": 197,
   "metadata": {},
   "outputs": [],
   "source": [
    "alldata_v1=np.loadtxt('/Users/aring/jupyter/differential-privacy/data/Arno/ECG-identification-input/lead1.csv', delimiter=',')"
   ]
  },
  {
   "cell_type": "code",
   "execution_count": 198,
   "metadata": {},
   "outputs": [
    {
     "data": {
      "text/plain": [
       "128170"
      ]
     },
     "execution_count": 198,
     "metadata": {},
     "output_type": "execute_result"
    }
   ],
   "source": [
    "totrows=alldata_v1.shape[0]\n",
    "totrows"
   ]
  },
  {
   "cell_type": "code",
   "execution_count": 199,
   "metadata": {},
   "outputs": [
    {
     "name": "stdout",
     "output_type": "stream",
     "text": [
      "total rows128170\n",
      "training rows89719\n"
     ]
    }
   ],
   "source": [
    "\n",
    "# Randomly mix rows\n",
    "np.random.seed(897)\n",
    "np.random.shuffle(alldata_v1)\n",
    "\n",
    "\n",
    "trainrows_count = int((totrows * 7/ 10) + 0.5) # 70% for training\n",
    "print('total rows'+str(totrows))\n",
    "print('training rows'+str(trainrows_count))\n",
    "\n",
    "\n",
    "with open('/Users/aring/jupyter/differential-privacy/data/Arno/ECG-identification-input//train.csv', \"wb\") as fin:\n",
    "    np.savetxt(fin, alldata_v1[:trainrows_count], delimiter=\",\", fmt='%f')\n",
    "with open('/Users/aring/jupyter/differential-privacy/data/Arno/ECG-identification-input/test.csv', \"wb\") as fin:\n",
    "    np.savetxt(fin, alldata_v1[trainrows_count:], delimiter=\",\", fmt='%f')"
   ]
  },
  {
   "cell_type": "code",
   "execution_count": 200,
   "metadata": {},
   "outputs": [],
   "source": [
    "# Training dataset.\n",
    "\n",
    "train_df = pd.read_csv(\"/Users/aring/jupyter/differential-privacy/data/Arno/ECG-identification-input/train.csv\", header=None)\n",
    "X_train=train_df.iloc[:,:186].values\n",
    "train_df[187]=train_df[187].astype(int)\n",
    "target_train=train_df[187]\n",
    "y_train=to_categorical(target_train)\n",
    "X_train = X_train.reshape(len(X_train), X_train.shape[1],1)\n",
    "\n",
    "#test dataset\n",
    "test_df = pd.read_csv(\"/Users/aring/jupyter/differential-privacy/data/Arno/ECG-identification-input/test.csv\", header=None)\n",
    "X_test=test_df.iloc[:,:186].values\n",
    "test_df[187]=test_df[187].astype(int)\n",
    "target_test=test_df[187]\n",
    "y_test=to_categorical(target_test)\n",
    "X_test= X_test.reshape(len(X_test), X_test.shape[1],1)\n"
   ]
  },
  {
   "cell_type": "code",
   "execution_count": 201,
   "metadata": {},
   "outputs": [
    {
     "data": {
      "text/plain": [
       "(89719, 10600)"
      ]
     },
     "execution_count": 201,
     "metadata": {},
     "output_type": "execute_result"
    }
   ],
   "source": [
    "y_train.shape"
   ]
  },
  {
   "cell_type": "code",
   "execution_count": 202,
   "metadata": {},
   "outputs": [
    {
     "data": {
      "text/plain": [
       "6516     15\n",
       "7827     14\n",
       "6633     14\n",
       "8060     14\n",
       "10093    14\n",
       "         ..\n",
       "5508      1\n",
       "3463      1\n",
       "1446      1\n",
       "7621      1\n",
       "4023      1\n",
       "Name: 187, Length: 10226, dtype: int64"
      ]
     },
     "execution_count": 202,
     "metadata": {},
     "output_type": "execute_result"
    }
   ],
   "source": [
    "test_df[187].value_counts()"
   ]
  },
  {
   "cell_type": "code",
   "execution_count": 203,
   "metadata": {},
   "outputs": [
    {
     "data": {
      "text/plain": [
       "10600"
      ]
     },
     "execution_count": 203,
     "metadata": {},
     "output_type": "execute_result"
    }
   ],
   "source": [
    "num_of_people_in_data =len(set(test_df[187]).union(set(train_df[187])))\n",
    "num_of_people_in_data"
   ]
  },
  {
   "cell_type": "code",
   "execution_count": 204,
   "metadata": {},
   "outputs": [],
   "source": [
    "def network(X_train,y_train,X_test,y_test):\n",
    "    im_shape=(X_train.shape[1],1)\n",
    "    inputs_cnn=Input(shape=(im_shape), name='inputs_cnn')\n",
    "    conv1_1=Convolution1D(64, (6), activation='relu', input_shape=im_shape)(inputs_cnn)\n",
    "    conv1_1=BatchNormalization()(conv1_1)\n",
    "    pool1=MaxPool1D(pool_size=(3), strides=(2), padding=\"same\")(conv1_1)\n",
    "    conv2_1=Convolution1D(64, (3), activation='relu', input_shape=im_shape)(pool1)\n",
    "    conv2_1=BatchNormalization()(conv2_1)\n",
    "    pool2=MaxPool1D(pool_size=(2), strides=(2), padding=\"same\")(conv2_1)\n",
    "    conv3_1=Convolution1D(64, (3), activation='relu', input_shape=im_shape)(pool2)\n",
    "    conv3_1=BatchNormalization()(conv3_1)\n",
    "    pool3=MaxPool1D(pool_size=(2), strides=(2), padding=\"same\")(conv3_1)\n",
    "    flatten=Flatten()(pool3)\n",
    "    dense_end1 = Dense(64, activation='relu')(flatten)\n",
    "    dense_end2 = Dense(50, activation='relu')(dense_end1)\n",
    "    main_output = Dense(num_of_people_in_data, activation='softmax', name='main_output')(dense_end2)\n",
    "    \n",
    "    \n",
    "    model = Model(inputs= inputs_cnn, outputs=main_output)\n",
    "    model.compile(optimizer='adam', loss='categorical_crossentropy',metrics = ['accuracy'])\n",
    "    \n",
    "    \n",
    "    callbacks = [EarlyStopping(monitor='val_loss', patience=8),\n",
    "             ModelCheckpoint(filepath='best_model.h5', monitor='val_loss', save_best_only=True)]\n",
    "\n",
    "    history=model.fit(X_train, y_train,epochs=40,callbacks=callbacks, batch_size=32,validation_data=(X_test,y_test))\n",
    "    model.load_weights('best_model.h5')\n",
    "    return(model,history)"
   ]
  },
  {
   "cell_type": "code",
   "execution_count": 205,
   "metadata": {},
   "outputs": [],
   "source": [
    "def evaluate_model(history,X_test,y_test,model):\n",
    "    scores = model.evaluate((X_test),y_test, verbose=0)\n",
    "    print(\"Accuracy: %.2f%%\" % (scores[1]*100))\n",
    "    \n",
    "    print(history)\n",
    "    fig1, ax_acc = plt.subplots()\n",
    "    plt.plot(history.history['acc'])\n",
    "    plt.plot(history.history['val_acc'])\n",
    "    plt.xlabel('Epoch')\n",
    "    plt.ylabel('Accuracy')\n",
    "    plt.title('Model - Accuracy')\n",
    "    plt.legend(['Training', 'Validation'], loc='lower right')\n",
    "    plt.show()\n",
    "    \n",
    "    fig2, ax_loss = plt.subplots()\n",
    "    plt.xlabel('Epoch')\n",
    "    plt.ylabel('Loss')\n",
    "    plt.title('Model- Loss')\n",
    "    plt.legend(['Training', 'Validation'], loc='upper right')\n",
    "    plt.plot(history.history['loss'])\n",
    "    plt.plot(history.history['val_loss'])\n",
    "    plt.show()\n",
    "    \n",
    "    y_true=[]\n",
    "    for element in y_test:\n",
    "        y_true.append(np.argmax(element))\n",
    "    prediction_proba=model.predict(X_test)\n",
    "    prediction=np.argmax(prediction_proba,axis=1)\n",
    "    cnf_matrix = confusion_matrix(y_true, prediction)\n",
    "    "
   ]
  },
  {
   "cell_type": "code",
   "execution_count": 206,
   "metadata": {},
   "outputs": [
    {
     "name": "stdout",
     "output_type": "stream",
     "text": [
      "Train on 89719 samples, validate on 38451 samples\n",
      "Epoch 1/40\n",
      "89719/89719 [==============================] - 113s 1ms/step - loss: 7.7842 - acc: 0.0169 - val_loss: 6.5043 - val_acc: 0.0442\n",
      "Epoch 2/40\n",
      "89719/89719 [==============================] - 110s 1ms/step - loss: 5.2252 - acc: 0.1225 - val_loss: 5.0908 - val_acc: 0.1633\n",
      "Epoch 3/40\n",
      "89719/89719 [==============================] - 119s 1ms/step - loss: 3.9435 - acc: 0.2518 - val_loss: 4.3574 - val_acc: 0.2526\n",
      "Epoch 4/40\n",
      "89719/89719 [==============================] - 117s 1ms/step - loss: 3.1751 - acc: 0.3549 - val_loss: 3.7327 - val_acc: 0.3543\n",
      "Epoch 5/40\n",
      "89719/89719 [==============================] - 502s 6ms/step - loss: 2.6881 - acc: 0.4268 - val_loss: 3.4657 - val_acc: 0.3913\n",
      "Epoch 6/40\n",
      "89719/89719 [==============================] - 124s 1ms/step - loss: 2.3332 - acc: 0.4853 - val_loss: 3.1861 - val_acc: 0.4398\n",
      "Epoch 7/40\n",
      "89719/89719 [==============================] - 113s 1ms/step - loss: 2.0662 - acc: 0.5329 - val_loss: 2.9734 - val_acc: 0.4731\n",
      "Epoch 8/40\n",
      "89719/89719 [==============================] - 114s 1ms/step - loss: 1.8440 - acc: 0.5722 - val_loss: 2.8174 - val_acc: 0.5078\n",
      "Epoch 9/40\n",
      "89719/89719 [==============================] - 3758s 42ms/step - loss: 1.6634 - acc: 0.6080 - val_loss: 2.7685 - val_acc: 0.5062\n",
      "Epoch 10/40\n",
      "89719/89719 [==============================] - 132s 1ms/step - loss: 1.5136 - acc: 0.6387 - val_loss: 2.6947 - val_acc: 0.5356\n",
      "Epoch 11/40\n",
      "89719/89719 [==============================] - 112s 1ms/step - loss: 1.3759 - acc: 0.6649 - val_loss: 2.5222 - val_acc: 0.5665\n",
      "Epoch 12/40\n",
      "89719/89719 [==============================] - 100s 1ms/step - loss: 1.2642 - acc: 0.6885 - val_loss: 2.5100 - val_acc: 0.5603\n",
      "Epoch 13/40\n",
      "89719/89719 [==============================] - 103s 1ms/step - loss: 1.1670 - acc: 0.7090 - val_loss: 2.4612 - val_acc: 0.5797\n",
      "Epoch 14/40\n",
      "89719/89719 [==============================] - 103s 1ms/step - loss: 1.0778 - acc: 0.7301 - val_loss: 2.3404 - val_acc: 0.6127\n",
      "Epoch 15/40\n",
      "89719/89719 [==============================] - 97s 1ms/step - loss: 1.0013 - acc: 0.7459 - val_loss: 2.4559 - val_acc: 0.5866\n",
      "Epoch 16/40\n",
      "89719/89719 [==============================] - 101s 1ms/step - loss: 0.9322 - acc: 0.7602 - val_loss: 2.4469 - val_acc: 0.6002\n",
      "Epoch 17/40\n",
      "89719/89719 [==============================] - 100s 1ms/step - loss: 0.8696 - acc: 0.7743 - val_loss: 2.2917 - val_acc: 0.6259\n",
      "Epoch 18/40\n",
      "89719/89719 [==============================] - 99s 1ms/step - loss: 0.8115 - acc: 0.7884 - val_loss: 2.2539 - val_acc: 0.6357\n",
      "Epoch 19/40\n",
      "89719/89719 [==============================] - 969s 11ms/step - loss: 0.7627 - acc: 0.7990 - val_loss: 2.3006 - val_acc: 0.6240\n",
      "Epoch 20/40\n",
      "89719/89719 [==============================] - 144s 2ms/step - loss: 0.7162 - acc: 0.8111 - val_loss: 2.1979 - val_acc: 0.6584\n",
      "Epoch 21/40\n",
      "89719/89719 [==============================] - 127s 1ms/step - loss: 0.6766 - acc: 0.8196 - val_loss: 2.2503 - val_acc: 0.6416\n",
      "Epoch 22/40\n",
      "89719/89719 [==============================] - 121s 1ms/step - loss: 0.6371 - acc: 0.8290 - val_loss: 2.3280 - val_acc: 0.6443\n",
      "Epoch 23/40\n",
      "89719/89719 [==============================] - 134s 1ms/step - loss: 0.6036 - acc: 0.8356 - val_loss: 2.2755 - val_acc: 0.6476\n",
      "Epoch 24/40\n",
      "89719/89719 [==============================] - 134s 1ms/step - loss: 0.5711 - acc: 0.8439 - val_loss: 2.1353 - val_acc: 0.6765\n",
      "Epoch 25/40\n",
      "89719/89719 [==============================] - 140s 2ms/step - loss: 0.5430 - acc: 0.8518 - val_loss: 2.2040 - val_acc: 0.6732\n",
      "Epoch 26/40\n",
      "89719/89719 [==============================] - 124s 1ms/step - loss: 0.5167 - acc: 0.8589 - val_loss: 2.1820 - val_acc: 0.6814\n",
      "Epoch 27/40\n",
      "89719/89719 [==============================] - 106s 1ms/step - loss: 0.4888 - acc: 0.8657 - val_loss: 2.1841 - val_acc: 0.6736\n",
      "Epoch 28/40\n",
      "89719/89719 [==============================] - 109s 1ms/step - loss: 0.4624 - acc: 0.8712 - val_loss: 2.3729 - val_acc: 0.6409\n",
      "Epoch 29/40\n",
      "89719/89719 [==============================] - 98s 1ms/step - loss: 0.4475 - acc: 0.8762 - val_loss: 2.1394 - val_acc: 0.6948\n",
      "Epoch 30/40\n",
      "89719/89719 [==============================] - 1246s 14ms/step - loss: 0.4271 - acc: 0.8814 - val_loss: 2.1321 - val_acc: 0.6927\n",
      "Epoch 31/40\n",
      "89719/89719 [==============================] - 123s 1ms/step - loss: 0.4078 - acc: 0.8860 - val_loss: 2.3428 - val_acc: 0.6647\n",
      "Epoch 32/40\n",
      "89719/89719 [==============================] - 112s 1ms/step - loss: 0.3900 - acc: 0.8916 - val_loss: 2.2735 - val_acc: 0.6861\n",
      "Epoch 33/40\n",
      "89719/89719 [==============================] - 107s 1ms/step - loss: 0.3719 - acc: 0.8959 - val_loss: 2.2119 - val_acc: 0.6975\n",
      "Epoch 34/40\n",
      "89719/89719 [==============================] - 111s 1ms/step - loss: 0.3615 - acc: 0.8985 - val_loss: 2.3212 - val_acc: 0.6718\n",
      "Epoch 35/40\n",
      "89719/89719 [==============================] - 108s 1ms/step - loss: 0.3481 - acc: 0.9015 - val_loss: 2.2830 - val_acc: 0.6990\n",
      "Epoch 36/40\n",
      "89719/89719 [==============================] - 108s 1ms/step - loss: 0.3332 - acc: 0.9062 - val_loss: 2.2321 - val_acc: 0.6948\n",
      "Epoch 37/40\n",
      "89719/89719 [==============================] - 105s 1ms/step - loss: 0.3177 - acc: 0.9101 - val_loss: 2.2601 - val_acc: 0.7018\n",
      "Epoch 38/40\n",
      "89719/89719 [==============================] - 105s 1ms/step - loss: 0.3126 - acc: 0.9110 - val_loss: 2.2402 - val_acc: 0.7107\n"
     ]
    }
   ],
   "source": [
    "model,history=network(X_train,y_train,X_test,y_test)"
   ]
  },
  {
   "cell_type": "code",
   "execution_count": 207,
   "metadata": {},
   "outputs": [
    {
     "name": "stdout",
     "output_type": "stream",
     "text": [
      "Accuracy: 69.27%\n",
      "<keras.callbacks.History object at 0x17582fd30>\n"
     ]
    },
    {
     "data": {
      "image/png": "[encoded data removed]",
      "text/plain": [
       "<Figure size 432x288 with 1 Axes>"
      ]
     },
     "metadata": {
      "needs_background": "light"
     },
     "output_type": "display_data"
    },
    {
     "data": {
      "image/png": "[encoded data removed]",
      "text/plain": [
       "<Figure size 432x288 with 1 Axes>"
      ]
     },
     "metadata": {
      "needs_background": "light"
     },
     "output_type": "display_data"
    }
   ],
   "source": [
    "evaluate_model(history,X_test,y_test,model)\n",
    "y_pred=model.predict(X_test)"
   ]
  },
  {
   "cell_type": "code",
   "execution_count": 208,
   "metadata": {},
   "outputs": [
    {
     "name": "stdout",
     "output_type": "stream",
     "text": [
      "[1190, 9440, 1921, 1423, 9576, 618, 7497, 6446, 2743, 5174, 9560, 1921, 2872, 7265, 3929, 10561, 6658, 8692, 2648]\n",
      "[1190, 3742, 6107, 1423, 9576, 618, 9506, 6446, 2743, 5174, 9560, 1921, 2872, 4611, 3929, 10561, 6658, 8692, 8042]\n"
     ]
    }
   ],
   "source": [
    "#predicted class vs actual, some examples\n",
    "print(list(y_pred.argmax(axis=1)[1:20]))\n",
    "print(list(target_test[1:20]))"
   ]
  },
  {
   "cell_type": "code",
   "execution_count": null,
   "metadata": {},
   "outputs": [],
   "source": []
  }
 ],
 "metadata": {
  "kernelspec": {
   "display_name": "Python 3",
   "language": "python",
   "name": "python3"
  },
  "language_info": {
   "codemirror_mode": {
    "name": "ipython",
    "version": 3
   },
   "file_extension": ".py",
   "mimetype": "text/x-python",
   "name": "python",
   "nbconvert_exporter": "python",
   "pygments_lexer": "ipython3",
   "version": "3.7.1"
  }
 },
 "nbformat": 4,
 "nbformat_minor": 2
}
